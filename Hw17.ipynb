{
 "cells": [
  {
   "cell_type": "code",
   "execution_count": 1,
   "id": "038fe27e",
   "metadata": {},
   "outputs": [],
   "source": [
    "Dict = {\"name\": \"Shakil\",\n",
    "    \"age\":\"27\",\n",
    "    \"city\":\"Berlin\",\n",
    "    \"country\":\"Germany\"}"
   ]
  },
  {
   "cell_type": "code",
   "execution_count": 2,
   "id": "7cd29c9a",
   "metadata": {},
   "outputs": [],
   "source": [
    "Dict[\"age\"]= \"28\""
   ]
  },
  {
   "cell_type": "code",
   "execution_count": 3,
   "id": "86fec629",
   "metadata": {},
   "outputs": [
    {
     "name": "stdout",
     "output_type": "stream",
     "text": [
      "{'name': 'Shakil', 'age': '28', 'city': 'Berlin', 'country': 'Germany'}\n"
     ]
    }
   ],
   "source": [
    "print(Dict)"
   ]
  }
 ],
 "metadata": {
  "kernelspec": {
   "display_name": "Python 3 (ipykernel)",
   "language": "python",
   "name": "python3"
  },
  "language_info": {
   "codemirror_mode": {
    "name": "ipython",
    "version": 3
   },
   "file_extension": ".py",
   "mimetype": "text/x-python",
   "name": "python",
   "nbconvert_exporter": "python",
   "pygments_lexer": "ipython3",
   "version": "3.10.7"
  }
 },
 "nbformat": 4,
 "nbformat_minor": 5
}
