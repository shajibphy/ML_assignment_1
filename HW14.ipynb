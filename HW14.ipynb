{
 "cells": [
  {
   "cell_type": "code",
   "execution_count": 1,
   "id": "96cf85fe",
   "metadata": {},
   "outputs": [
    {
     "name": "stdout",
     "output_type": "stream",
     "text": [
      "Enter a list of numbers: 8 56 43 89 100 65\n"
     ]
    }
   ],
   "source": [
    "numbers = input(\"Enter a list of numbers: \")"
   ]
  },
  {
   "cell_type": "code",
   "execution_count": 2,
   "id": "5dc988b9",
   "metadata": {},
   "outputs": [],
   "source": [
    "numbers_list = numbers.split()"
   ]
  },
  {
   "cell_type": "code",
   "execution_count": 3,
   "id": "45a36b50",
   "metadata": {},
   "outputs": [],
   "source": [
    "numbers_list = [int(i) for i in numbers_list]"
   ]
  },
  {
   "cell_type": "code",
   "execution_count": 4,
   "id": "033bc208",
   "metadata": {},
   "outputs": [
    {
     "name": "stdout",
     "output_type": "stream",
     "text": [
      "[8, 56, 43, 89, 100, 65]\n"
     ]
    }
   ],
   "source": [
    "print(numbers_list)"
   ]
  },
  {
   "cell_type": "code",
   "execution_count": 5,
   "id": "c3e56b96",
   "metadata": {},
   "outputs": [],
   "source": [
    "max_number = numbers_list[0]"
   ]
  },
  {
   "cell_type": "code",
   "execution_count": 6,
   "id": "5be790ca",
   "metadata": {},
   "outputs": [],
   "source": [
    "for num in numbers_list:\n",
    "    if num > max_number:\n",
    "        max_number = num"
   ]
  },
  {
   "cell_type": "code",
   "execution_count": 7,
   "id": "3024cad3",
   "metadata": {},
   "outputs": [
    {
     "name": "stdout",
     "output_type": "stream",
     "text": [
      "The maximum number is: 100\n"
     ]
    }
   ],
   "source": [
    "print(\"The maximum number is:\", max_number)"
   ]
  }
 ],
 "metadata": {
  "kernelspec": {
   "display_name": "Python 3 (ipykernel)",
   "language": "python",
   "name": "python3"
  },
  "language_info": {
   "codemirror_mode": {
    "name": "ipython",
    "version": 3
   },
   "file_extension": ".py",
   "mimetype": "text/x-python",
   "name": "python",
   "nbconvert_exporter": "python",
   "pygments_lexer": "ipython3",
   "version": "3.10.7"
  }
 },
 "nbformat": 4,
 "nbformat_minor": 5
}
