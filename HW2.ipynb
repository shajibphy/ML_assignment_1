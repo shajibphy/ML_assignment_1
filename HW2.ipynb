{
 "cells": [
  {
   "cell_type": "code",
   "execution_count": 1,
   "id": "1765607b",
   "metadata": {},
   "outputs": [
    {
     "name": "stdout",
     "output_type": "stream",
     "text": [
      "Put your first number: 76\n"
     ]
    }
   ],
   "source": [
    "a = int(input(\"Put your first number: \"))"
   ]
  },
  {
   "cell_type": "code",
   "execution_count": 2,
   "id": "3102c6e5",
   "metadata": {},
   "outputs": [
    {
     "name": "stdout",
     "output_type": "stream",
     "text": [
      "Put your second number: 83\n"
     ]
    }
   ],
   "source": [
    "b = int(input(\"Put your second number: \"))"
   ]
  },
  {
   "cell_type": "code",
   "execution_count": 3,
   "id": "eb7dc28d",
   "metadata": {},
   "outputs": [
    {
     "name": "stdout",
     "output_type": "stream",
     "text": [
      "Put your third number: 56\n"
     ]
    }
   ],
   "source": [
    "c = int(input(\"Put your third number: \"))"
   ]
  },
  {
   "cell_type": "code",
   "execution_count": 4,
   "id": "71b1550b",
   "metadata": {},
   "outputs": [
    {
     "name": "stdout",
     "output_type": "stream",
     "text": [
      "83 is the greatest\n"
     ]
    }
   ],
   "source": [
    "if a > b and a > c:\n",
    "    print(f'{a} is the greatest')\n",
    "elif b > a and b > c:\n",
    "    print(f'{b} is the greatest')\n",
    "elif c > a and c > a:\n",
    "    print(f'{c} is the greatest') \n",
    "elif a == b and b == c:\n",
    "    print('all numbers are same')\n"
   ]
  }
 ],
 "metadata": {
  "kernelspec": {
   "display_name": "Python 3 (ipykernel)",
   "language": "python",
   "name": "python3"
  },
  "language_info": {
   "codemirror_mode": {
    "name": "ipython",
    "version": 3
   },
   "file_extension": ".py",
   "mimetype": "text/x-python",
   "name": "python",
   "nbconvert_exporter": "python",
   "pygments_lexer": "ipython3",
   "version": "3.10.7"
  }
 },
 "nbformat": 4,
 "nbformat_minor": 5
}
