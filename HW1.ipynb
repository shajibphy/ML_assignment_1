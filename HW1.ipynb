{
 "cells": [
  {
   "cell_type": "code",
   "execution_count": 1,
   "id": "11bad107",
   "metadata": {},
   "outputs": [
    {
     "name": "stdout",
     "output_type": "stream",
     "text": [
      "Put the length of a rectangle:15\n"
     ]
    }
   ],
   "source": [
    "length = int(input('Put the length of a rectangle:'))"
   ]
  },
  {
   "cell_type": "code",
   "execution_count": 2,
   "id": "f26eaef0",
   "metadata": {},
   "outputs": [
    {
     "name": "stdout",
     "output_type": "stream",
     "text": [
      "Put the breadth of a rectangle:18\n"
     ]
    }
   ],
   "source": [
    "breadth = int (input('Put the breadth of a rectangle:'))"
   ]
  },
  {
   "cell_type": "code",
   "execution_count": 3,
   "id": "ee2e4b39",
   "metadata": {},
   "outputs": [],
   "source": [
    "rectangle = length*breadth"
   ]
  },
  {
   "cell_type": "code",
   "execution_count": 4,
   "id": "07238221",
   "metadata": {},
   "outputs": [],
   "source": [
    "if length == breadth:\n",
    "    print('Its a square')"
   ]
  },
  {
   "cell_type": "code",
   "execution_count": 5,
   "id": "089c38bd",
   "metadata": {},
   "outputs": [
    {
     "name": "stdout",
     "output_type": "stream",
     "text": [
      "Its a rectangle\n"
     ]
    }
   ],
   "source": [
    "\n",
    "    print('Its a rectangle')"
   ]
  },
  {
   "cell_type": "code",
   "execution_count": null,
   "id": "4d2f2e5a",
   "metadata": {},
   "outputs": [],
   "source": []
  }
 ],
 "metadata": {
  "kernelspec": {
   "display_name": "Python 3 (ipykernel)",
   "language": "python",
   "name": "python3"
  },
  "language_info": {
   "codemirror_mode": {
    "name": "ipython",
    "version": 3
   },
   "file_extension": ".py",
   "mimetype": "text/x-python",
   "name": "python",
   "nbconvert_exporter": "python",
   "pygments_lexer": "ipython3",
   "version": "3.10.7"
  }
 },
 "nbformat": 4,
 "nbformat_minor": 5
}
