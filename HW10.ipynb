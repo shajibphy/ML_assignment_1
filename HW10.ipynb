{
 "cells": [
  {
   "cell_type": "code",
   "execution_count": 3,
   "id": "b25ce210",
   "metadata": {},
   "outputs": [
    {
     "name": "stdout",
     "output_type": "stream",
     "text": [
      "# # # # \n",
      "# # # # # \n",
      "# # # # \n",
      "# # \n"
     ]
    }
   ],
   "source": [
    "for i in range(1, 5):\n",
    "    j = 1\n",
    "    while j <= 4:\n",
    "        if i == 2:\n",
    "            print(\"#\", end=\" \")\n",
    "            if j == 4:\n",
    "                print(\"#\", end=\" \")\n",
    "        elif i == 4:\n",
    "            if j == 1 or j == 2:\n",
    "                print(\"#\", end=\" \")\n",
    "            else:\n",
    "                break\n",
    "        else:\n",
    "            print(\"#\", end=\" \")\n",
    "        j += 1\n",
    "    print()"
   ]
  },
  {
   "cell_type": "code",
   "execution_count": null,
   "id": "2c997153",
   "metadata": {},
   "outputs": [],
   "source": []
  }
 ],
 "metadata": {
  "kernelspec": {
   "display_name": "Python 3 (ipykernel)",
   "language": "python",
   "name": "python3"
  },
  "language_info": {
   "codemirror_mode": {
    "name": "ipython",
    "version": 3
   },
   "file_extension": ".py",
   "mimetype": "text/x-python",
   "name": "python",
   "nbconvert_exporter": "python",
   "pygments_lexer": "ipython3",
   "version": "3.10.7"
  }
 },
 "nbformat": 4,
 "nbformat_minor": 5
}
