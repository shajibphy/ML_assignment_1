{
 "cells": [
  {
   "cell_type": "code",
   "execution_count": 1,
   "id": "85d5a6ec",
   "metadata": {},
   "outputs": [
    {
     "name": "stdout",
     "output_type": "stream",
     "text": [
      "enter your mark:76\n"
     ]
    }
   ],
   "source": [
    "marks = int (input('enter your mark:'))"
   ]
  },
  {
   "cell_type": "code",
   "execution_count": 2,
   "id": "4528c1bc",
   "metadata": {},
   "outputs": [
    {
     "name": "stdout",
     "output_type": "stream",
     "text": [
      "Your grade is A\n"
     ]
    }
   ],
   "source": [
    "if marks >= 90:\n",
    "    print ('Your grade is A+')\n",
    "elif marks >= 80 and marks <90:\n",
    "    print ('Your grade is A+')\n",
    "elif marks >= 70 and marks <80:\n",
    "    print ('Your grade is A')\n",
    "elif marks >= 60 and marks <70:\n",
    "    print ('Your grade is B')\n",
    "elif marks >= 50 and marks < 60:\n",
    "    print ('Your grade is C')\n",
    "elif marks >= 45 and marks <50:\n",
    "    print ('Your grade is D')\n",
    "elif marks >= 25 and marks <44:\n",
    "    print ('Your grade is E')\n",
    "elif marks < 25:\n",
    "    print ('Your grade is F')"
   ]
  },
  {
   "cell_type": "code",
   "execution_count": null,
   "id": "6f1c3837",
   "metadata": {},
   "outputs": [],
   "source": []
  }
 ],
 "metadata": {
  "kernelspec": {
   "display_name": "Python 3 (ipykernel)",
   "language": "python",
   "name": "python3"
  },
  "language_info": {
   "codemirror_mode": {
    "name": "ipython",
    "version": 3
   },
   "file_extension": ".py",
   "mimetype": "text/x-python",
   "name": "python",
   "nbconvert_exporter": "python",
   "pygments_lexer": "ipython3",
   "version": "3.10.7"
  }
 },
 "nbformat": 4,
 "nbformat_minor": 5
}
