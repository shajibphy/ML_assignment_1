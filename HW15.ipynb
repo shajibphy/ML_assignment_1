{
 "cells": [
  {
   "cell_type": "code",
   "execution_count": 6,
   "id": "d6e7eef2",
   "metadata": {},
   "outputs": [
    {
     "name": "stdout",
     "output_type": "stream",
     "text": [
      "{'name': 'Shakil', 'age': '27', 'city': 'Berlin', 'region': 'Germany'}\n"
     ]
    }
   ],
   "source": [
    "dict = {\n",
    "  \"name\": \"Shakil\",\n",
    "    \"age\":\"27\",\n",
    "    \"city\":\"Berlin\",\n",
    "    \"country\":\"Germany\"\n",
    "\n",
    "}\n",
    "x = dict[\"country\"]\n",
    "del dict[\"country\"]\n",
    "dict[\"region\"] = x\n",
    "print(dict)"
   ]
  },
  {
   "cell_type": "code",
   "execution_count": null,
   "id": "1c9a4a26",
   "metadata": {},
   "outputs": [],
   "source": []
  }
 ],
 "metadata": {
  "kernelspec": {
   "display_name": "Python 3 (ipykernel)",
   "language": "python",
   "name": "python3"
  },
  "language_info": {
   "codemirror_mode": {
    "name": "ipython",
    "version": 3
   },
   "file_extension": ".py",
   "mimetype": "text/x-python",
   "name": "python",
   "nbconvert_exporter": "python",
   "pygments_lexer": "ipython3",
   "version": "3.10.7"
  }
 },
 "nbformat": 4,
 "nbformat_minor": 5
}
