{
 "cells": [
  {
   "cell_type": "code",
   "execution_count": 1,
   "id": "22420a71",
   "metadata": {},
   "outputs": [
    {
     "name": "stdout",
     "output_type": "stream",
     "text": [
      "Put the aatendence of the student: 56\n"
     ]
    }
   ],
   "source": [
    "attendence_num = int (input('Put the aatendence of the student: '))"
   ]
  },
  {
   "cell_type": "code",
   "execution_count": 2,
   "id": "93635fb4",
   "metadata": {},
   "outputs": [
    {
     "name": "stdout",
     "output_type": "stream",
     "text": [
      "Put the number of total class: 80\n"
     ]
    }
   ],
   "source": [
    "total_class = int (input('Put the number of total class: '))"
   ]
  },
  {
   "cell_type": "code",
   "execution_count": 3,
   "id": "3fd96621",
   "metadata": {},
   "outputs": [],
   "source": [
    "attendence_percent = round((attendence_num/total_class)*100)"
   ]
  },
  {
   "cell_type": "code",
   "execution_count": 4,
   "id": "679271c8",
   "metadata": {},
   "outputs": [
    {
     "name": "stdout",
     "output_type": "stream",
     "text": [
      "70\n"
     ]
    }
   ],
   "source": [
    "print(attendence_percent)"
   ]
  },
  {
   "cell_type": "code",
   "execution_count": 5,
   "id": "7bcb919d",
   "metadata": {},
   "outputs": [
    {
     "name": "stdout",
     "output_type": "stream",
     "text": [
      "The student is not eligible for exam\n"
     ]
    }
   ],
   "source": [
    "if attendence_percent >= 75:\n",
    "    print(\"The student will be allowed for exam\")\n",
    "else:\n",
    "    print(\"The student is not eligible for exam\")"
   ]
  }
 ],
 "metadata": {
  "kernelspec": {
   "display_name": "Python 3 (ipykernel)",
   "language": "python",
   "name": "python3"
  },
  "language_info": {
   "codemirror_mode": {
    "name": "ipython",
    "version": 3
   },
   "file_extension": ".py",
   "mimetype": "text/x-python",
   "name": "python",
   "nbconvert_exporter": "python",
   "pygments_lexer": "ipython3",
   "version": "3.10.7"
  }
 },
 "nbformat": 4,
 "nbformat_minor": 5
}
